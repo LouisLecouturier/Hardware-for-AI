{
 "cells": [
  {
   "cell_type": "code",
   "execution_count": 1,
   "metadata": {},
   "outputs": [],
   "source": [
    "import numpy as np\n",
    "import matplotlib.pyplot as plt\n",
    "import pandas as pd\n",
    "import tensorflow as tf\n",
    "from tensorflow.keras.models import Sequential\n",
    "from tensorflow.keras.layers import Dense\n",
    "from tensorflow.keras.layers import LSTM\n",
    "from sklearn.preprocessing import MinMaxScaler\n",
    "from sklearn.metrics import mean_squared_error\n",
    "import os\n"
   ]
  },
  {
   "cell_type": "code",
   "execution_count": 2,
   "metadata": {},
   "outputs": [
    {
     "name": "stdout",
     "output_type": "stream",
     "text": [
      "Utilisation du GPU (Metal)\n"
     ]
    },
    {
     "name": "stderr",
     "output_type": "stream",
     "text": [
      "2025-02-07 13:30:59.249048: I metal_plugin/src/device/metal_device.cc:1154] Metal device set to: Apple M2 Pro\n",
      "2025-02-07 13:30:59.249070: I metal_plugin/src/device/metal_device.cc:296] systemMemory: 16.00 GB\n",
      "2025-02-07 13:30:59.249074: I metal_plugin/src/device/metal_device.cc:313] maxCacheSize: 5.33 GB\n",
      "WARNING: All log messages before absl::InitializeLog() is called are written to STDERR\n",
      "I0000 00:00:1738931459.249413  585806 pluggable_device_factory.cc:305] Could not identify NUMA node of platform GPU ID 0, defaulting to 0. Your kernel may not have been built with NUMA support.\n",
      "I0000 00:00:1738931459.249694  585806 pluggable_device_factory.cc:271] Created TensorFlow device (/job:localhost/replica:0/task:0/device:GPU:0 with 0 MB memory) -> physical PluggableDevice (device: 0, name: METAL, pci bus id: <undefined>)\n"
     ]
    },
    {
     "data": {
      "text/plain": [
       "True"
      ]
     },
     "execution_count": 2,
     "metadata": {},
     "output_type": "execute_result"
    }
   ],
   "source": [
    "def select_gpu():\n",
    "    try:\n",
    "        if len(tf.config.list_physical_devices('GPU')) > 0:\n",
    "            # Utiliser with pour créer le contexte\n",
    "            with tf.device('/device:GPU:0'):\n",
    "                print(\"Utilisation du GPU (Metal)\")\n",
    "                return True\n",
    "        else:\n",
    "            with tf.device('/CPU:0'):\n",
    "                print(\"GPU non disponible. Utilisation du CPU à la place.\")\n",
    "                return False\n",
    "    except:\n",
    "        with tf.device('/CPU:0'):\n",
    "            print(\"Erreur lors de l'activation du GPU. Utilisation du CPU à la place.\")\n",
    "            return False\n",
    "\n",
    "select_gpu()"
   ]
  },
  {
   "cell_type": "code",
   "execution_count": 15,
   "metadata": {},
   "outputs": [
    {
     "name": "stdout",
     "output_type": "stream",
     "text": [
      "Devices disponibles: [PhysicalDevice(name='/physical_device:CPU:0', device_type='CPU'), PhysicalDevice(name='/physical_device:GPU:0', device_type='GPU')]\n",
      "Device actuel: [PhysicalDevice(name='/physical_device:CPU:0', device_type='CPU'), PhysicalDevice(name='/physical_device:GPU:0', device_type='GPU')]\n",
      "GPU/Metal est disponible et activé\n"
     ]
    }
   ],
   "source": [
    "def print_current_device():\n",
    "    # Obtenir tous les devices disponibles\n",
    "    devices = tf.config.list_physical_devices()\n",
    "    print(\"Devices disponibles:\", devices)\n",
    "    \n",
    "    # Vérifier le device actuel\n",
    "    current_device = tf.config.get_visible_devices()\n",
    "    print(\"Device actuel:\", current_device)\n",
    "    \n",
    "    # Vérifier si un GPU est utilisé\n",
    "    if tf.test.is_built_with_cuda():\n",
    "        print(\"TensorFlow est configuré avec CUDA\")\n",
    "    \n",
    "   # Vérifier les devices visibles (actifs)\n",
    "    visible_gpus = tf.config.get_visible_devices('GPU')\n",
    "    if len(visible_gpus) > 0:\n",
    "        print(\"GPU/Metal est disponible et activé\")\n",
    "    else:\n",
    "        print(\"CPU est utilisé\")\n",
    "\n",
    "print_current_device()"
   ]
  },
  {
   "cell_type": "code",
   "execution_count": 4,
   "metadata": {},
   "outputs": [],
   "source": [
    "# fix random seed for reproducibility\n",
    "tf.random.set_seed(7)"
   ]
  },
  {
   "cell_type": "code",
   "execution_count": 5,
   "metadata": {},
   "outputs": [],
   "source": [
    "# load the dataset\n",
    "path = os.path.join('..', '..', 'datasets', 'airline-passengers.csv')\n",
    "dataframe = pd.read_csv(path, usecols=[1], engine='python')\n",
    "dataset = dataframe.values\n",
    "dataset = dataset.astype('float32')\n"
   ]
  },
  {
   "cell_type": "code",
   "execution_count": 6,
   "metadata": {},
   "outputs": [],
   "source": [
    "# normalize the dataset\n",
    "scaler = MinMaxScaler(feature_range=(0, 1))\n",
    "dataset = scaler.fit_transform(dataset)"
   ]
  },
  {
   "cell_type": "code",
   "execution_count": 7,
   "metadata": {},
   "outputs": [
    {
     "name": "stdout",
     "output_type": "stream",
     "text": [
      "96 48\n"
     ]
    }
   ],
   "source": [
    "# split into train and test sets\n",
    "train_size = int(len(dataset) * 0.67)\n",
    "test_size = len(dataset) - train_size\n",
    "train, test = dataset[0:train_size,:], dataset[train_size:len(dataset),:]\n",
    "print(len(train), len(test))"
   ]
  },
  {
   "cell_type": "code",
   "execution_count": 8,
   "metadata": {},
   "outputs": [],
   "source": [
    "# convert an array of values into a dataset matrix\n",
    "def create_dataset(dataset, look_back=1):\n",
    "\tdataX, dataY = [], []\n",
    "\tfor i in range(len(dataset)-look_back-1):\n",
    "\t\ta = dataset[i:(i+look_back), 0]\n",
    "\t\tdataX.append(a)\n",
    "\t\tdataY.append(dataset[i + look_back, 0])\n",
    "\treturn np.array(dataX), np.array(dataY)"
   ]
  },
  {
   "cell_type": "code",
   "execution_count": 9,
   "metadata": {},
   "outputs": [],
   "source": [
    "# reshape into X=t and Y=t+1\n",
    "look_back = 1\n",
    "trainX, trainY = create_dataset(train, look_back)\n",
    "testX, testY = create_dataset(test, look_back)"
   ]
  },
  {
   "cell_type": "code",
   "execution_count": 10,
   "metadata": {},
   "outputs": [],
   "source": [
    "# reshape input to be [samples, time steps, features]\n",
    "trainX = np.reshape(trainX, (trainX.shape[0], 1, trainX.shape[1]))\n",
    "testX = np.reshape(testX, (testX.shape[0], 1, testX.shape[1]))"
   ]
  },
  {
   "cell_type": "code",
   "execution_count": 11,
   "metadata": {},
   "outputs": [
    {
     "name": "stderr",
     "output_type": "stream",
     "text": [
      "/Users/antoine/Documents/GitHub/AntoineMaes/Hardware-for-AI/.venv/lib/python3.11/site-packages/keras/src/layers/rnn/rnn.py:200: UserWarning: Do not pass an `input_shape`/`input_dim` argument to a layer. When using Sequential models, prefer using an `Input(shape)` object as the first layer in the model instead.\n",
      "  super().__init__(**kwargs)\n"
     ]
    }
   ],
   "source": [
    "# create LSTM network\n",
    "model = Sequential()\n",
    "model.add(LSTM(4, input_shape=(1, look_back)))\n",
    "model.add(Dense(1))\n",
    "\n",
    "model.compile(loss='mean_squared_error', optimizer='adam')"
   ]
  },
  {
   "cell_type": "code",
   "execution_count": 12,
   "metadata": {},
   "outputs": [
    {
     "name": "stdout",
     "output_type": "stream",
     "text": [
      "Epoch 1/100\n"
     ]
    },
    {
     "name": "stderr",
     "output_type": "stream",
     "text": [
      "2025-02-07 13:31:00.609907: I tensorflow/core/grappler/optimizers/custom_graph_optimizer_registry.cc:117] Plugin optimizer for device_type GPU is enabled.\n"
     ]
    },
    {
     "name": "stdout",
     "output_type": "stream",
     "text": [
      "94/94 - 3s - 33ms/step - loss: 0.0630\n",
      "Epoch 2/100\n",
      "94/94 - 1s - 6ms/step - loss: 0.0349\n",
      "Epoch 3/100\n",
      "94/94 - 1s - 6ms/step - loss: 0.0253\n",
      "Epoch 4/100\n",
      "94/94 - 1s - 6ms/step - loss: 0.0223\n",
      "Epoch 5/100\n",
      "94/94 - 1s - 6ms/step - loss: 0.0211\n",
      "Epoch 6/100\n",
      "94/94 - 1s - 6ms/step - loss: 0.0202\n",
      "Epoch 7/100\n",
      "94/94 - 1s - 6ms/step - loss: 0.0194\n",
      "Epoch 8/100\n",
      "94/94 - 1s - 6ms/step - loss: 0.0187\n",
      "Epoch 9/100\n",
      "94/94 - 1s - 6ms/step - loss: 0.0180\n",
      "Epoch 10/100\n",
      "94/94 - 1s - 6ms/step - loss: 0.0173\n",
      "Epoch 11/100\n",
      "94/94 - 1s - 6ms/step - loss: 0.0166\n",
      "Epoch 12/100\n",
      "94/94 - 1s - 6ms/step - loss: 0.0159\n",
      "Epoch 13/100\n",
      "94/94 - 1s - 6ms/step - loss: 0.0152\n",
      "Epoch 14/100\n",
      "94/94 - 1s - 6ms/step - loss: 0.0144\n",
      "Epoch 15/100\n",
      "94/94 - 1s - 6ms/step - loss: 0.0137\n",
      "Epoch 16/100\n",
      "94/94 - 1s - 6ms/step - loss: 0.0128\n",
      "Epoch 17/100\n",
      "94/94 - 1s - 6ms/step - loss: 0.0120\n",
      "Epoch 18/100\n",
      "94/94 - 1s - 6ms/step - loss: 0.0110\n",
      "Epoch 19/100\n",
      "94/94 - 1s - 6ms/step - loss: 0.0100\n",
      "Epoch 20/100\n",
      "94/94 - 1s - 6ms/step - loss: 0.0089\n",
      "Epoch 21/100\n",
      "94/94 - 1s - 6ms/step - loss: 0.0077\n",
      "Epoch 22/100\n",
      "94/94 - 1s - 6ms/step - loss: 0.0064\n",
      "Epoch 23/100\n",
      "94/94 - 1s - 6ms/step - loss: 0.0052\n",
      "Epoch 24/100\n",
      "94/94 - 1s - 6ms/step - loss: 0.0042\n",
      "Epoch 25/100\n",
      "94/94 - 1s - 6ms/step - loss: 0.0034\n",
      "Epoch 26/100\n",
      "94/94 - 1s - 6ms/step - loss: 0.0028\n",
      "Epoch 27/100\n",
      "94/94 - 1s - 6ms/step - loss: 0.0024\n",
      "Epoch 28/100\n",
      "94/94 - 1s - 6ms/step - loss: 0.0022\n",
      "Epoch 29/100\n",
      "94/94 - 1s - 6ms/step - loss: 0.0021\n",
      "Epoch 30/100\n",
      "94/94 - 1s - 6ms/step - loss: 0.0021\n",
      "Epoch 31/100\n",
      "94/94 - 1s - 6ms/step - loss: 0.0020\n",
      "Epoch 32/100\n",
      "94/94 - 1s - 6ms/step - loss: 0.0020\n",
      "Epoch 33/100\n",
      "94/94 - 1s - 6ms/step - loss: 0.0020\n",
      "Epoch 34/100\n",
      "94/94 - 1s - 6ms/step - loss: 0.0020\n",
      "Epoch 35/100\n",
      "94/94 - 1s - 6ms/step - loss: 0.0020\n",
      "Epoch 36/100\n",
      "94/94 - 1s - 6ms/step - loss: 0.0020\n",
      "Epoch 37/100\n",
      "94/94 - 1s - 6ms/step - loss: 0.0020\n",
      "Epoch 38/100\n",
      "94/94 - 1s - 6ms/step - loss: 0.0020\n",
      "Epoch 39/100\n",
      "94/94 - 1s - 6ms/step - loss: 0.0020\n",
      "Epoch 40/100\n",
      "94/94 - 1s - 6ms/step - loss: 0.0020\n",
      "Epoch 41/100\n",
      "94/94 - 1s - 6ms/step - loss: 0.0020\n",
      "Epoch 42/100\n",
      "94/94 - 1s - 6ms/step - loss: 0.0020\n",
      "Epoch 43/100\n",
      "94/94 - 1s - 6ms/step - loss: 0.0020\n",
      "Epoch 44/100\n",
      "94/94 - 1s - 6ms/step - loss: 0.0020\n",
      "Epoch 45/100\n",
      "94/94 - 1s - 6ms/step - loss: 0.0020\n",
      "Epoch 46/100\n",
      "94/94 - 1s - 6ms/step - loss: 0.0020\n",
      "Epoch 47/100\n",
      "94/94 - 1s - 6ms/step - loss: 0.0020\n",
      "Epoch 48/100\n",
      "94/94 - 1s - 6ms/step - loss: 0.0020\n",
      "Epoch 49/100\n",
      "94/94 - 1s - 6ms/step - loss: 0.0020\n",
      "Epoch 50/100\n",
      "94/94 - 1s - 6ms/step - loss: 0.0020\n",
      "Epoch 51/100\n",
      "94/94 - 1s - 6ms/step - loss: 0.0020\n",
      "Epoch 52/100\n",
      "94/94 - 1s - 6ms/step - loss: 0.0020\n",
      "Epoch 53/100\n",
      "94/94 - 1s - 6ms/step - loss: 0.0020\n",
      "Epoch 54/100\n",
      "94/94 - 1s - 6ms/step - loss: 0.0020\n",
      "Epoch 55/100\n",
      "94/94 - 1s - 6ms/step - loss: 0.0020\n",
      "Epoch 56/100\n",
      "94/94 - 1s - 6ms/step - loss: 0.0020\n",
      "Epoch 57/100\n",
      "94/94 - 1s - 6ms/step - loss: 0.0020\n",
      "Epoch 58/100\n",
      "94/94 - 1s - 6ms/step - loss: 0.0020\n",
      "Epoch 59/100\n",
      "94/94 - 1s - 6ms/step - loss: 0.0020\n",
      "Epoch 60/100\n",
      "94/94 - 1s - 6ms/step - loss: 0.0020\n",
      "Epoch 61/100\n",
      "94/94 - 1s - 6ms/step - loss: 0.0020\n",
      "Epoch 62/100\n",
      "94/94 - 1s - 6ms/step - loss: 0.0020\n",
      "Epoch 63/100\n",
      "94/94 - 1s - 7ms/step - loss: 0.0020\n",
      "Epoch 64/100\n",
      "94/94 - 1s - 7ms/step - loss: 0.0020\n",
      "Epoch 65/100\n",
      "94/94 - 1s - 6ms/step - loss: 0.0020\n",
      "Epoch 66/100\n",
      "94/94 - 1s - 6ms/step - loss: 0.0020\n",
      "Epoch 67/100\n",
      "94/94 - 1s - 6ms/step - loss: 0.0020\n",
      "Epoch 68/100\n",
      "94/94 - 1s - 6ms/step - loss: 0.0020\n",
      "Epoch 69/100\n",
      "94/94 - 1s - 6ms/step - loss: 0.0020\n",
      "Epoch 70/100\n",
      "94/94 - 1s - 6ms/step - loss: 0.0020\n",
      "Epoch 71/100\n",
      "94/94 - 1s - 6ms/step - loss: 0.0020\n",
      "Epoch 72/100\n",
      "94/94 - 1s - 6ms/step - loss: 0.0020\n",
      "Epoch 73/100\n",
      "94/94 - 1s - 6ms/step - loss: 0.0020\n",
      "Epoch 74/100\n",
      "94/94 - 1s - 6ms/step - loss: 0.0020\n",
      "Epoch 75/100\n",
      "94/94 - 1s - 6ms/step - loss: 0.0020\n",
      "Epoch 76/100\n",
      "94/94 - 1s - 6ms/step - loss: 0.0020\n",
      "Epoch 77/100\n",
      "94/94 - 1s - 6ms/step - loss: 0.0020\n",
      "Epoch 78/100\n",
      "94/94 - 1s - 6ms/step - loss: 0.0020\n",
      "Epoch 79/100\n",
      "94/94 - 1s - 6ms/step - loss: 0.0020\n",
      "Epoch 80/100\n",
      "94/94 - 1s - 6ms/step - loss: 0.0020\n",
      "Epoch 81/100\n",
      "94/94 - 1s - 6ms/step - loss: 0.0020\n",
      "Epoch 82/100\n",
      "94/94 - 1s - 6ms/step - loss: 0.0020\n",
      "Epoch 83/100\n",
      "94/94 - 1s - 6ms/step - loss: 0.0020\n",
      "Epoch 84/100\n",
      "94/94 - 1s - 6ms/step - loss: 0.0020\n",
      "Epoch 85/100\n",
      "94/94 - 1s - 6ms/step - loss: 0.0020\n",
      "Epoch 86/100\n",
      "94/94 - 1s - 6ms/step - loss: 0.0020\n",
      "Epoch 87/100\n",
      "94/94 - 1s - 6ms/step - loss: 0.0020\n",
      "Epoch 88/100\n",
      "94/94 - 1s - 6ms/step - loss: 0.0020\n",
      "Epoch 89/100\n",
      "94/94 - 1s - 6ms/step - loss: 0.0020\n",
      "Epoch 90/100\n",
      "94/94 - 1s - 6ms/step - loss: 0.0020\n",
      "Epoch 91/100\n",
      "94/94 - 1s - 6ms/step - loss: 0.0020\n",
      "Epoch 92/100\n",
      "94/94 - 1s - 6ms/step - loss: 0.0020\n",
      "Epoch 93/100\n",
      "94/94 - 1s - 6ms/step - loss: 0.0020\n",
      "Epoch 94/100\n",
      "94/94 - 1s - 7ms/step - loss: 0.0020\n",
      "Epoch 95/100\n",
      "94/94 - 1s - 6ms/step - loss: 0.0020\n",
      "Epoch 96/100\n",
      "94/94 - 1s - 6ms/step - loss: 0.0020\n",
      "Epoch 97/100\n",
      "94/94 - 1s - 6ms/step - loss: 0.0020\n",
      "Epoch 98/100\n",
      "94/94 - 1s - 6ms/step - loss: 0.0020\n",
      "Epoch 99/100\n",
      "94/94 - 1s - 6ms/step - loss: 0.0020\n",
      "Epoch 100/100\n",
      "94/94 - 1s - 6ms/step - loss: 0.0020\n"
     ]
    },
    {
     "data": {
      "text/plain": [
       "<keras.src.callbacks.history.History at 0x173ae1290>"
      ]
     },
     "execution_count": 12,
     "metadata": {},
     "output_type": "execute_result"
    }
   ],
   "source": [
    "# Train the model\n",
    "model.fit(trainX, trainY, epochs=100, batch_size=1, verbose=2)"
   ]
  },
  {
   "cell_type": "code",
   "execution_count": 13,
   "metadata": {},
   "outputs": [
    {
     "name": "stdout",
     "output_type": "stream",
     "text": [
      "\u001b[1m3/3\u001b[0m \u001b[32m━━━━━━━━━━━━━━━━━━━━\u001b[0m\u001b[37m\u001b[0m \u001b[1m1s\u001b[0m 112ms/step\n",
      "\u001b[1m2/2\u001b[0m \u001b[32m━━━━━━━━━━━━━━━━━━━━\u001b[0m\u001b[37m\u001b[0m \u001b[1m0s\u001b[0m 169ms/step\n",
      "Train Score: 22.76 RMSE\n",
      "Test Score: 50.09 RMSE\n"
     ]
    }
   ],
   "source": [
    "# make predictions\n",
    "trainPredict = model.predict(trainX)\n",
    "testPredict = model.predict(testX)\n",
    "\n",
    "# invert predictions\n",
    "trainPredict = scaler.inverse_transform(trainPredict)\n",
    "trainY = scaler.inverse_transform([trainY])\n",
    "testPredict = scaler.inverse_transform(testPredict)\n",
    "testY = scaler.inverse_transform([testY])\n",
    "\n",
    "# calculate root mean squared error\n",
    "trainScore = np.sqrt(mean_squared_error(trainY[0], trainPredict[:,0]))\n",
    "print('Train Score: %.2f RMSE' % (trainScore))\n",
    "testScore = np.sqrt(mean_squared_error(testY[0], testPredict[:,0]))\n",
    "print('Test Score: %.2f RMSE' % (testScore))"
   ]
  },
  {
   "cell_type": "code",
   "execution_count": 14,
   "metadata": {},
   "outputs": [
    {
     "data": {
      "image/png": "[encoded data removed]",
      "text/plain": [
       "<Figure size 640x480 with 1 Axes>"
      ]
     },
     "metadata": {},
     "output_type": "display_data"
    }
   ],
   "source": [
    "# shift train predictions for plotting\n",
    "trainPredictPlot = np.empty_like(dataset)\n",
    "trainPredictPlot[:, :] = np.nan\n",
    "trainPredictPlot[look_back:len(trainPredict)+look_back, :] = trainPredict\n",
    "\n",
    "# shift test predictions for plotting\n",
    "testPredictPlot = np.empty_like(dataset)\n",
    "testPredictPlot[:, :] = np.nan\n",
    "testPredictPlot[len(trainPredict)+(look_back*2)+1:len(dataset)-1, :] = testPredict\n",
    "\n",
    "# plot baseline and predictions\n",
    "plt.plot(scaler.inverse_transform(dataset), label='Dataset')\n",
    "plt.plot(trainPredictPlot, label='Train')\n",
    "plt.plot(testPredictPlot, label='Test')\n",
    "plt.legend()\n",
    "plt.show()"
   ]
  }
 ],
 "metadata": {
  "kernelspec": {
   "display_name": ".venv",
   "language": "python",
   "name": "python3"
  },
  "language_info": {
   "codemirror_mode": {
    "name": "ipython",
    "version": 3
   },
   "file_extension": ".py",
   "mimetype": "text/x-python",
   "name": "python",
   "nbconvert_exporter": "python",
   "pygments_lexer": "ipython3",
   "version": "3.11.5"
  }
 },
 "nbformat": 4,
 "nbformat_minor": 2
}
